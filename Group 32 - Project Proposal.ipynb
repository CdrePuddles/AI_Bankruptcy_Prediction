{
 "cells": [
  {
   "cell_type": "markdown",
   "id": "3268c8ae-c9d5-467c-ac42-c14cf34c2735",
   "metadata": {},
   "source": [
    "# Predicting Company Bankruptcy using Liability Financial Metrics"
   ]
  },
  {
   "cell_type": "markdown",
   "id": "621c8add-5c2a-4794-8cfd-b84afb39c8ae",
   "metadata": {},
   "source": [
    "## Introduction\n",
    "Business failures, or \"bankruptcies\" as they may be more commonly refered to as, are a very real and unfortunate part of society.  They can occur through the natural course of progression (such as smartphone cameras replacing the non-professional dedicated camera market), or be exacerbated through exogenous shocks (such as the dot-com bubble of 2001, or the 2007 financial crisis).  In this analysis, we will try to determine if we can predict the looming bankruptcy of a company based on a variety of their fundamental financial metrics.  Specifically, we will be looking at various debt and/or liability ratios in conducting our analysis.\n",
    "\n",
    "The dataset we will be using is the Taiwanese Bankruptcy Prediction dataset, which comes from the Taiwan Economic Journal (TEJ).  Founded in April 1990, the TEJ has specialized in providing all required and value-added information for fundamental analysis of the securities financial market[1].  Between the years 1999 and 2009, the TEJ recorded 220 instances of bankruptcy within the 6,819 instances of companies and their financial metrics they analysed[2].  Company bankruptcy was defined based ont he business rules of the Taiwan Stock Exchange.\n",
    "\n",
    "The dataset includes 95 columns of financial metrics, and a 96th column for a bankruptcy flag (yes / no).\n"
   ]
  },
  {
   "cell_type": "markdown",
   "id": "f97bfc5e-83d0-4b65-a01d-4f0bd482394d",
   "metadata": {},
   "source": [
    "[1] https://www.tejwin.com/en/about/\n",
    "\n",
    "[2] \n",
    "Lyon,Robert. (2017). HTRU2. UCI Machine Learning Repository. https://doi.org/10.24432/C5DK6R."
   ]
  },
  {
   "cell_type": "markdown",
   "id": "0b5239a3-c28c-4893-9fe1-f4f30a10e2e3",
   "metadata": {},
   "source": [
    "## Preliminary Data Analysis"
   ]
  },
  {
   "cell_type": "markdown",
   "id": "031cfc4b-bdcb-4fa9-8e4b-6bbd78f138a9",
   "metadata": {},
   "source": [
    "We will start off by reading necessary libraries:"
   ]
  },
  {
   "cell_type": "code",
   "execution_count": 5,
   "id": "5cdd4bf6-548e-42f3-9172-7f7be0deb115",
   "metadata": {
    "scrolled": true
   },
   "outputs": [
    {
     "name": "stderr",
     "output_type": "stream",
     "text": [
      "\n",
      "Attaching package: ‘janitor’\n",
      "\n",
      "\n",
      "The following objects are masked from ‘package:stats’:\n",
      "\n",
      "    chisq.test, fisher.test\n",
      "\n",
      "\n"
     ]
    }
   ],
   "source": [
    "library(tidyverse)\n",
    "library(repr)\n",
    "library(tidymodels)\n",
    "library(dplyr)\n",
    "library(janitor)\n",
    "\n",
    "options(repr.matrix.max.rows = 6)"
   ]
  },
  {
   "cell_type": "markdown",
   "id": "b56458ce-b9fc-40b2-9b57-0de1a6960a9c",
   "metadata": {},
   "source": [
    "Then we will read and tidy data.\n",
    "In the process of tidying, we will need to:\n",
    "1) clean the headers of our data as numerous of them have spaces and/or invalid characters (such as \"?\" or \"/\")\n",
    "2) change our classification column, \"bankruptcy\", to a factor, and rename the 1 and 0 by their respective human definitions\n",
    "3) select the columns necessary to our analysis, namely: bankrupt, columns containing the word \"debt\", and columns containing any form of the word \"liability\""
   ]
  },
  {
   "cell_type": "code",
   "execution_count": 6,
   "id": "0069509d-b2ba-4c8b-a35a-2391d21608b6",
   "metadata": {},
   "outputs": [
    {
     "name": "stderr",
     "output_type": "stream",
     "text": [
      "\u001b[1mRows: \u001b[22m\u001b[34m6819\u001b[39m \u001b[1mColumns: \u001b[22m\u001b[34m96\u001b[39m\n",
      "\u001b[36m──\u001b[39m \u001b[1mColumn specification\u001b[22m \u001b[36m────────────────────────────────────────────────────────\u001b[39m\n",
      "\u001b[1mDelimiter:\u001b[22m \",\"\n",
      "\u001b[32mdbl\u001b[39m (96): Bankrupt?, ROA(C) before interest and depreciation before interest...\n",
      "\n",
      "\u001b[36mℹ\u001b[39m Use `spec()` to retrieve the full column specification for this data.\n",
      "\u001b[36mℹ\u001b[39m Specify the column types or set `show_col_types = FALSE` to quiet this message.\n"
     ]
    },
    {
     "data": {
      "text/html": [
       "<table class=\"dataframe\">\n",
       "<caption>A tibble: 6819 × 21</caption>\n",
       "<thead>\n",
       "\t<tr><th scope=col>bankrupt</th><th scope=col>interest_bearing_debt_interest_rate</th><th scope=col>total_debt_total_net_worth</th><th scope=col>debt_ratio_percent</th><th scope=col>contingent_liabilities_net_worth</th><th scope=col>quick_assets_current_liability</th><th scope=col>cash_current_liability</th><th scope=col>current_liability_to_assets</th><th scope=col>operating_funds_to_liability</th><th scope=col>inventory_current_liability</th><th scope=col>⋯</th><th scope=col>current_liabilities_equity</th><th scope=col>long_term_liability_to_current_assets</th><th scope=col>current_liability_to_liability</th><th scope=col>current_liability_to_equity</th><th scope=col>equity_to_long_term_liability</th><th scope=col>cash_flow_to_liability</th><th scope=col>current_liability_to_current_assets</th><th scope=col>liability_assets_flag</th><th scope=col>liability_to_equity</th><th scope=col>equity_to_liability</th></tr>\n",
       "\t<tr><th scope=col>&lt;fct&gt;</th><th scope=col>&lt;dbl&gt;</th><th scope=col>&lt;dbl&gt;</th><th scope=col>&lt;dbl&gt;</th><th scope=col>&lt;dbl&gt;</th><th scope=col>&lt;dbl&gt;</th><th scope=col>&lt;dbl&gt;</th><th scope=col>&lt;dbl&gt;</th><th scope=col>&lt;dbl&gt;</th><th scope=col>&lt;dbl&gt;</th><th scope=col>⋯</th><th scope=col>&lt;dbl&gt;</th><th scope=col>&lt;dbl&gt;</th><th scope=col>&lt;dbl&gt;</th><th scope=col>&lt;dbl&gt;</th><th scope=col>&lt;dbl&gt;</th><th scope=col>&lt;dbl&gt;</th><th scope=col>&lt;dbl&gt;</th><th scope=col>&lt;dbl&gt;</th><th scope=col>&lt;dbl&gt;</th><th scope=col>&lt;dbl&gt;</th></tr>\n",
       "</thead>\n",
       "<tbody>\n",
       "\t<tr><td>Bankrupt</td><td>0.0007250725</td><td>0.02126592</td><td>20.75763</td><td>0.006478502</td><td>0.001996771</td><td>1.47336e-04</td><td>0.14730845</td><td>0.3340152</td><td>0.001035990</td><td>⋯</td><td>0.3390770</td><td>0.025592368</td><td>0.6762692</td><td>0.3390770</td><td>0.1265495</td><td>0.4586091</td><td>0.11825048</td><td>0</td><td>0.2902019</td><td>0.01646874</td></tr>\n",
       "\t<tr><td>Bankrupt</td><td>0.0006470647</td><td>0.01250239</td><td>17.11763</td><td>0.005835039</td><td>0.004136030</td><td>1.38391e-03</td><td>0.05696283</td><td>0.3411060</td><td>0.005209682</td><td>⋯</td><td>0.3297401</td><td>0.023946819</td><td>0.3085886</td><td>0.3297401</td><td>0.1209161</td><td>0.4590011</td><td>0.04777528</td><td>0</td><td>0.2838460</td><td>0.02079431</td></tr>\n",
       "\t<tr><td>Bankrupt</td><td>0.0007900790</td><td>0.02124769</td><td>20.75158</td><td>0.006561982</td><td>0.006302481</td><td>5.34000e+09</td><td>0.09816206</td><td>0.3367315</td><td>0.013878786</td><td>⋯</td><td>0.3347769</td><td>0.003715116</td><td>0.4460275</td><td>0.3347769</td><td>0.1179223</td><td>0.4592540</td><td>0.02534649</td><td>0</td><td>0.2901885</td><td>0.01647411</td></tr>\n",
       "\t<tr><td>⋮</td><td>⋮</td><td>⋮</td><td>⋮</td><td>⋮</td><td>⋮</td><td>⋮</td><td>⋮</td><td>⋮</td><td>⋮</td><td>⋱</td><td>⋮</td><td>⋮</td><td>⋮</td><td>⋮</td><td>⋮</td><td>⋮</td><td>⋮</td><td>⋮</td><td>⋮</td><td>⋮</td></tr>\n",
       "\t<tr><td>Not Bankrupt</td><td>0.000000e+00</td><td>0.0013915866</td><td>3.893944</td><td>0.005365848</td><td>0.035531293</td><td>0.088212480</td><td>0.02441366</td><td>0.3588474</td><td>0.007809807</td><td>⋯</td><td>0.3269206</td><td>0.0e+00</td><td>0.5539642</td><td>0.3269206</td><td>0.1109332</td><td>0.4524647</td><td>0.007542458</td><td>0</td><td>0.2757887</td><td>0.09764874</td></tr>\n",
       "\t<tr><td>Not Bankrupt</td><td>2.110211e-04</td><td>0.0038163762</td><td>8.697887</td><td>0.007067734</td><td>0.007753306</td><td>0.007133218</td><td>0.08319943</td><td>0.3802508</td><td>0.013333639</td><td>⋯</td><td>0.3292936</td><td>3.2e+09</td><td>0.8932409</td><td>0.3292936</td><td>0.1109574</td><td>0.4713133</td><td>0.022916427</td><td>0</td><td>0.2775472</td><td>0.04400945</td></tr>\n",
       "\t<tr><td>Not Bankrupt</td><td>5.900000e+08</td><td>0.0004614304</td><td>1.414880</td><td>0.006368212</td><td>0.051480515</td><td>0.066673545</td><td>0.01851735</td><td>0.2395847</td><td>0.000000000</td><td>⋯</td><td>0.3266903</td><td>0.0e+00</td><td>1.0000000</td><td>0.3266903</td><td>0.1109332</td><td>0.4832848</td><td>0.005579107</td><td>0</td><td>0.2751141</td><td>0.23390224</td></tr>\n",
       "</tbody>\n",
       "</table>\n"
      ],
      "text/latex": [
       "A tibble: 6819 × 21\n",
       "\\begin{tabular}{lllllllllllllllllllll}\n",
       " bankrupt & interest\\_bearing\\_debt\\_interest\\_rate & total\\_debt\\_total\\_net\\_worth & debt\\_ratio\\_percent & contingent\\_liabilities\\_net\\_worth & quick\\_assets\\_current\\_liability & cash\\_current\\_liability & current\\_liability\\_to\\_assets & operating\\_funds\\_to\\_liability & inventory\\_current\\_liability & ⋯ & current\\_liabilities\\_equity & long\\_term\\_liability\\_to\\_current\\_assets & current\\_liability\\_to\\_liability & current\\_liability\\_to\\_equity & equity\\_to\\_long\\_term\\_liability & cash\\_flow\\_to\\_liability & current\\_liability\\_to\\_current\\_assets & liability\\_assets\\_flag & liability\\_to\\_equity & equity\\_to\\_liability\\\\\n",
       " <fct> & <dbl> & <dbl> & <dbl> & <dbl> & <dbl> & <dbl> & <dbl> & <dbl> & <dbl> & ⋯ & <dbl> & <dbl> & <dbl> & <dbl> & <dbl> & <dbl> & <dbl> & <dbl> & <dbl> & <dbl>\\\\\n",
       "\\hline\n",
       "\t Bankrupt & 0.0007250725 & 0.02126592 & 20.75763 & 0.006478502 & 0.001996771 & 1.47336e-04 & 0.14730845 & 0.3340152 & 0.001035990 & ⋯ & 0.3390770 & 0.025592368 & 0.6762692 & 0.3390770 & 0.1265495 & 0.4586091 & 0.11825048 & 0 & 0.2902019 & 0.01646874\\\\\n",
       "\t Bankrupt & 0.0006470647 & 0.01250239 & 17.11763 & 0.005835039 & 0.004136030 & 1.38391e-03 & 0.05696283 & 0.3411060 & 0.005209682 & ⋯ & 0.3297401 & 0.023946819 & 0.3085886 & 0.3297401 & 0.1209161 & 0.4590011 & 0.04777528 & 0 & 0.2838460 & 0.02079431\\\\\n",
       "\t Bankrupt & 0.0007900790 & 0.02124769 & 20.75158 & 0.006561982 & 0.006302481 & 5.34000e+09 & 0.09816206 & 0.3367315 & 0.013878786 & ⋯ & 0.3347769 & 0.003715116 & 0.4460275 & 0.3347769 & 0.1179223 & 0.4592540 & 0.02534649 & 0 & 0.2901885 & 0.01647411\\\\\n",
       "\t ⋮ & ⋮ & ⋮ & ⋮ & ⋮ & ⋮ & ⋮ & ⋮ & ⋮ & ⋮ & ⋱ & ⋮ & ⋮ & ⋮ & ⋮ & ⋮ & ⋮ & ⋮ & ⋮ & ⋮ & ⋮\\\\\n",
       "\t Not Bankrupt & 0.000000e+00 & 0.0013915866 & 3.893944 & 0.005365848 & 0.035531293 & 0.088212480 & 0.02441366 & 0.3588474 & 0.007809807 & ⋯ & 0.3269206 & 0.0e+00 & 0.5539642 & 0.3269206 & 0.1109332 & 0.4524647 & 0.007542458 & 0 & 0.2757887 & 0.09764874\\\\\n",
       "\t Not Bankrupt & 2.110211e-04 & 0.0038163762 & 8.697887 & 0.007067734 & 0.007753306 & 0.007133218 & 0.08319943 & 0.3802508 & 0.013333639 & ⋯ & 0.3292936 & 3.2e+09 & 0.8932409 & 0.3292936 & 0.1109574 & 0.4713133 & 0.022916427 & 0 & 0.2775472 & 0.04400945\\\\\n",
       "\t Not Bankrupt & 5.900000e+08 & 0.0004614304 & 1.414880 & 0.006368212 & 0.051480515 & 0.066673545 & 0.01851735 & 0.2395847 & 0.000000000 & ⋯ & 0.3266903 & 0.0e+00 & 1.0000000 & 0.3266903 & 0.1109332 & 0.4832848 & 0.005579107 & 0 & 0.2751141 & 0.23390224\\\\\n",
       "\\end{tabular}\n"
      ],
      "text/markdown": [
       "\n",
       "A tibble: 6819 × 21\n",
       "\n",
       "| bankrupt &lt;fct&gt; | interest_bearing_debt_interest_rate &lt;dbl&gt; | total_debt_total_net_worth &lt;dbl&gt; | debt_ratio_percent &lt;dbl&gt; | contingent_liabilities_net_worth &lt;dbl&gt; | quick_assets_current_liability &lt;dbl&gt; | cash_current_liability &lt;dbl&gt; | current_liability_to_assets &lt;dbl&gt; | operating_funds_to_liability &lt;dbl&gt; | inventory_current_liability &lt;dbl&gt; | ⋯ ⋯ | current_liabilities_equity &lt;dbl&gt; | long_term_liability_to_current_assets &lt;dbl&gt; | current_liability_to_liability &lt;dbl&gt; | current_liability_to_equity &lt;dbl&gt; | equity_to_long_term_liability &lt;dbl&gt; | cash_flow_to_liability &lt;dbl&gt; | current_liability_to_current_assets &lt;dbl&gt; | liability_assets_flag &lt;dbl&gt; | liability_to_equity &lt;dbl&gt; | equity_to_liability &lt;dbl&gt; |\n",
       "|---|---|---|---|---|---|---|---|---|---|---|---|---|---|---|---|---|---|---|---|---|\n",
       "| Bankrupt | 0.0007250725 | 0.02126592 | 20.75763 | 0.006478502 | 0.001996771 | 1.47336e-04 | 0.14730845 | 0.3340152 | 0.001035990 | ⋯ | 0.3390770 | 0.025592368 | 0.6762692 | 0.3390770 | 0.1265495 | 0.4586091 | 0.11825048 | 0 | 0.2902019 | 0.01646874 |\n",
       "| Bankrupt | 0.0006470647 | 0.01250239 | 17.11763 | 0.005835039 | 0.004136030 | 1.38391e-03 | 0.05696283 | 0.3411060 | 0.005209682 | ⋯ | 0.3297401 | 0.023946819 | 0.3085886 | 0.3297401 | 0.1209161 | 0.4590011 | 0.04777528 | 0 | 0.2838460 | 0.02079431 |\n",
       "| Bankrupt | 0.0007900790 | 0.02124769 | 20.75158 | 0.006561982 | 0.006302481 | 5.34000e+09 | 0.09816206 | 0.3367315 | 0.013878786 | ⋯ | 0.3347769 | 0.003715116 | 0.4460275 | 0.3347769 | 0.1179223 | 0.4592540 | 0.02534649 | 0 | 0.2901885 | 0.01647411 |\n",
       "| ⋮ | ⋮ | ⋮ | ⋮ | ⋮ | ⋮ | ⋮ | ⋮ | ⋮ | ⋮ | ⋱ | ⋮ | ⋮ | ⋮ | ⋮ | ⋮ | ⋮ | ⋮ | ⋮ | ⋮ | ⋮ |\n",
       "| Not Bankrupt | 0.000000e+00 | 0.0013915866 | 3.893944 | 0.005365848 | 0.035531293 | 0.088212480 | 0.02441366 | 0.3588474 | 0.007809807 | ⋯ | 0.3269206 | 0.0e+00 | 0.5539642 | 0.3269206 | 0.1109332 | 0.4524647 | 0.007542458 | 0 | 0.2757887 | 0.09764874 |\n",
       "| Not Bankrupt | 2.110211e-04 | 0.0038163762 | 8.697887 | 0.007067734 | 0.007753306 | 0.007133218 | 0.08319943 | 0.3802508 | 0.013333639 | ⋯ | 0.3292936 | 3.2e+09 | 0.8932409 | 0.3292936 | 0.1109574 | 0.4713133 | 0.022916427 | 0 | 0.2775472 | 0.04400945 |\n",
       "| Not Bankrupt | 5.900000e+08 | 0.0004614304 | 1.414880 | 0.006368212 | 0.051480515 | 0.066673545 | 0.01851735 | 0.2395847 | 0.000000000 | ⋯ | 0.3266903 | 0.0e+00 | 1.0000000 | 0.3266903 | 0.1109332 | 0.4832848 | 0.005579107 | 0 | 0.2751141 | 0.23390224 |\n",
       "\n"
      ],
      "text/plain": [
       "     bankrupt     interest_bearing_debt_interest_rate\n",
       "1    Bankrupt     0.0007250725                       \n",
       "2    Bankrupt     0.0006470647                       \n",
       "3    Bankrupt     0.0007900790                       \n",
       "⋮    ⋮            ⋮                                  \n",
       "6817 Not Bankrupt 0.000000e+00                       \n",
       "6818 Not Bankrupt 2.110211e-04                       \n",
       "6819 Not Bankrupt 5.900000e+08                       \n",
       "     total_debt_total_net_worth debt_ratio_percent\n",
       "1    0.02126592                 20.75763          \n",
       "2    0.01250239                 17.11763          \n",
       "3    0.02124769                 20.75158          \n",
       "⋮    ⋮                          ⋮                 \n",
       "6817 0.0013915866               3.893944          \n",
       "6818 0.0038163762               8.697887          \n",
       "6819 0.0004614304               1.414880          \n",
       "     contingent_liabilities_net_worth quick_assets_current_liability\n",
       "1    0.006478502                      0.001996771                   \n",
       "2    0.005835039                      0.004136030                   \n",
       "3    0.006561982                      0.006302481                   \n",
       "⋮    ⋮                                ⋮                             \n",
       "6817 0.005365848                      0.035531293                   \n",
       "6818 0.007067734                      0.007753306                   \n",
       "6819 0.006368212                      0.051480515                   \n",
       "     cash_current_liability current_liability_to_assets\n",
       "1    1.47336e-04            0.14730845                 \n",
       "2    1.38391e-03            0.05696283                 \n",
       "3    5.34000e+09            0.09816206                 \n",
       "⋮    ⋮                      ⋮                          \n",
       "6817 0.088212480            0.02441366                 \n",
       "6818 0.007133218            0.08319943                 \n",
       "6819 0.066673545            0.01851735                 \n",
       "     operating_funds_to_liability inventory_current_liability ⋯\n",
       "1    0.3340152                    0.001035990                 ⋯\n",
       "2    0.3411060                    0.005209682                 ⋯\n",
       "3    0.3367315                    0.013878786                 ⋯\n",
       "⋮    ⋮                            ⋮                           ⋱\n",
       "6817 0.3588474                    0.007809807                 ⋯\n",
       "6818 0.3802508                    0.013333639                 ⋯\n",
       "6819 0.2395847                    0.000000000                 ⋯\n",
       "     current_liabilities_equity long_term_liability_to_current_assets\n",
       "1    0.3390770                  0.025592368                          \n",
       "2    0.3297401                  0.023946819                          \n",
       "3    0.3347769                  0.003715116                          \n",
       "⋮    ⋮                          ⋮                                    \n",
       "6817 0.3269206                  0.0e+00                              \n",
       "6818 0.3292936                  3.2e+09                              \n",
       "6819 0.3266903                  0.0e+00                              \n",
       "     current_liability_to_liability current_liability_to_equity\n",
       "1    0.6762692                      0.3390770                  \n",
       "2    0.3085886                      0.3297401                  \n",
       "3    0.4460275                      0.3347769                  \n",
       "⋮    ⋮                              ⋮                          \n",
       "6817 0.5539642                      0.3269206                  \n",
       "6818 0.8932409                      0.3292936                  \n",
       "6819 1.0000000                      0.3266903                  \n",
       "     equity_to_long_term_liability cash_flow_to_liability\n",
       "1    0.1265495                     0.4586091             \n",
       "2    0.1209161                     0.4590011             \n",
       "3    0.1179223                     0.4592540             \n",
       "⋮    ⋮                             ⋮                     \n",
       "6817 0.1109332                     0.4524647             \n",
       "6818 0.1109574                     0.4713133             \n",
       "6819 0.1109332                     0.4832848             \n",
       "     current_liability_to_current_assets liability_assets_flag\n",
       "1    0.11825048                          0                    \n",
       "2    0.04777528                          0                    \n",
       "3    0.02534649                          0                    \n",
       "⋮    ⋮                                   ⋮                    \n",
       "6817 0.007542458                         0                    \n",
       "6818 0.022916427                         0                    \n",
       "6819 0.005579107                         0                    \n",
       "     liability_to_equity equity_to_liability\n",
       "1    0.2902019           0.01646874         \n",
       "2    0.2838460           0.02079431         \n",
       "3    0.2901885           0.01647411         \n",
       "⋮    ⋮                   ⋮                  \n",
       "6817 0.2757887           0.09764874         \n",
       "6818 0.2775472           0.04400945         \n",
       "6819 0.2751141           0.23390224         "
      ]
     },
     "metadata": {},
     "output_type": "display_data"
    }
   ],
   "source": [
    "taiwan_data <- read_csv(\"data/Bankruptcy_Prediction.csv\") |>\n",
    "               clean_names() #the headers have numerous spaces and/or invalid characters\n",
    "\n",
    "taiwan_tidy <- taiwan_data |>\n",
    "                mutate(bankrupt = fct_recode(factor(bankrupt), \"Bankrupt\" = '1', \"Not Bankrupt\" = '0'), debt_ratio_percent = debt_ratio_percent * 100) |> #change numerical values to factors/classifications.\n",
    "                select(bankrupt, contains(\"debt\"), contains(\"liabilit\")) #select 1) classification column (bankrupt), 2) columns containing \"Debt\", and 3) columns containing any form of liability\n",
    "\n",
    "taiwan_tidy"
   ]
  },
  {
   "cell_type": "markdown",
   "id": "c7552ce2-d187-4346-b2b1-490d1e0ad317",
   "metadata": {},
   "source": [
    "Following a bit of data tidying, we will separate our data into respective training and testing groups.  As there are only 220 instances of bankruptcy in the dataset of 6,819 observations (and it is also the column we are trying to predict), we will select bankrupt as our strata."
   ]
  },
  {
   "cell_type": "code",
   "execution_count": null,
   "id": "24e99e24-2b4b-4b08-9490-a8e2907f7a91",
   "metadata": {},
   "outputs": [],
   "source": [
    "taiwan_split <- initial_split(taiwan_tidy, prop = 0.75, strata = bankrupt)\n",
    "taiwan_training <- training(taiwan_split)\n",
    "taiwan_testing <- testing(taiwan_split)"
   ]
  },
  {
   "cell_type": "markdown",
   "id": "74495f73-cb08-46c9-8c2c-f14f23d0cd89",
   "metadata": {},
   "source": [
    "Below we present an initial data summary using training data, noting the count of Bankrupt vs Not Bankrupt against a widely-recognized financial metric, the debt ratio, presented as an average for each of Bankrupt and Not Bankrupt.  Debt ratio is defined as (total debt / total assets):"
   ]
  },
  {
   "cell_type": "code",
   "execution_count": null,
   "id": "649f2fa8-71f7-45b4-9489-0e0458c26267",
   "metadata": {},
   "outputs": [],
   "source": [
    "taiwan_training_count_and_debt_summary <- taiwan_training |>\n",
    "                                          group_by(bankrupt) |>\n",
    "                                          summarize(Observations = n(), Average_Debt_Ratio_Percent = mean(debt_ratio_percent))\n",
    "\n",
    "taiwan_training_count_and_debt_summary"
   ]
  },
  {
   "cell_type": "markdown",
   "id": "892cd20b-08e0-472b-b95a-2fb1aedf8e25",
   "metadata": {},
   "source": [
    "In the following graph, we visualize this average debt ratio %"
   ]
  },
  {
   "cell_type": "code",
   "execution_count": null,
   "id": "99dd7ffd-491c-4986-a69b-0dd5b9230b2d",
   "metadata": {},
   "outputs": [],
   "source": [
    "options(repr.plot.width = 15, repr.plot.height = 10)\n",
    "\n",
    "#annotations <- data.frame(x = c(Average_Debt_Ratio_Percent),  y = c(300),  label = c(\"Mean:\")) \n",
    "\n",
    "taiwan_training_histogram <- taiwan_training |>\n",
    "                             ggplot(aes (x = debt_ratio_percent, colour = bankrupt)) +\n",
    "                             geom_histogram(binwidth = 1, position = \"identity\") +\n",
    "                             facet_grid(bankrupt ~.) +\n",
    "                             geom_vline(data = taiwan_training_count_and_debt_summary, aes(xintercept=Average_Debt_Ratio_Percent, color=bankrupt), linetype=\"dashed\") +\n",
    "                             labs(x = \"Debt Ratio (%)\", y = \"Count of Bankrupt and non-Bankrupt companies\", colour = \"Legend\", title = \"Comparing Debt Ratio of Bankrupt vs Non-Bankrupt Companies\") +\n",
    "                             geom_text(data = taiwan_training_count_and_debt_summary, aes(label = paste(\"Mean debt ratio: \", round(Average_Debt_Ratio_Percent,2)), x = 30, y = 200), size = 7) +\n",
    "                             theme(text = element_text(size = 20), plot.title = element_text(hjust = 0.5)) \n",
    "taiwan_training_histogram"
   ]
  },
  {
   "cell_type": "markdown",
   "id": "57784277-3e09-4854-a4d4-0a468e0b4bd5",
   "metadata": {},
   "source": [
    "## Methods"
   ]
  },
  {
   "cell_type": "code",
   "execution_count": null,
   "id": "5170f7a1-9e78-48d4-af24-6b1382063b6a",
   "metadata": {},
   "outputs": [],
   "source": [
    "Anybody have anything to add here?"
   ]
  },
  {
   "cell_type": "markdown",
   "id": "ee5ee07b-20f5-41fa-bf12-96124ddc070a",
   "metadata": {},
   "source": [
    "## Expected Outcomes and Significance"
   ]
  },
  {
   "cell_type": "code",
   "execution_count": null,
   "id": "fb1bd488-057e-43c1-80f5-3cba76d72408",
   "metadata": {},
   "outputs": [],
   "source": [
    "Anybody have anything to add here?"
   ]
  }
 ],
 "metadata": {
  "kernelspec": {
   "display_name": "R",
   "language": "R",
   "name": "ir"
  },
  "language_info": {
   "codemirror_mode": "r",
   "file_extension": ".r",
   "mimetype": "text/x-r-source",
   "name": "R",
   "pygments_lexer": "r",
   "version": "4.3.1"
  }
 },
 "nbformat": 4,
 "nbformat_minor": 5
}
